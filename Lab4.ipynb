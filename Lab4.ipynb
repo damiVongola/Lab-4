{
 "cells": [
  {
   "cell_type": "markdown",
   "id": "e3cc8d17-a392-4e4a-908f-fb7ec436d83f",
   "metadata": {},
   "source": [
    "# Load Classification Dataset\n",
    "\n",
    "(Get training and test dataset here)"
   ]
  },
  {
   "cell_type": "markdown",
   "id": "e16f1cdb-4f0a-4e42-82f9-c43d6276f85d",
   "metadata": {},
   "source": [
    "# Define class names"
   ]
  },
  {
   "cell_type": "markdown",
   "id": "61ca970b-5001-43c5-8b16-b9696c91c792",
   "metadata": {},
   "source": [
    "# Sample images from the dataset"
   ]
  },
  {
   "cell_type": "markdown",
   "id": "d24bbf1e-f38d-49b3-a573-516428db8176",
   "metadata": {},
   "source": [
    "# Feature scale images"
   ]
  },
  {
   "cell_type": "markdown",
   "id": "7f1bea4a-3981-4a10-9d8f-0e1136de9c02",
   "metadata": {},
   "source": [
    "# Without Regularization"
   ]
  },
  {
   "cell_type": "markdown",
   "id": "19ee441c-5a9e-4877-902a-0226b9d1978c",
   "metadata": {},
   "source": [
    "## Testing with Sigmoid"
   ]
  },
  {
   "cell_type": "markdown",
   "id": "007f9e33-49bc-4574-a269-c446b0715d59",
   "metadata": {},
   "source": [
    "### Create model Definition \n",
    "  - Use tf.keras.layers.Flatten for the input layer \n",
    "  - Use Dense layers with sizes: [128, 64] respectively\n",
    "     - Use glorot_uniform(xavier initialization) kernel_initializer\n",
    "     - Use zero initialization for biases\n",
    "     - Use sigmoid as activation function\n",
    "  - Use Dense layer with softmax activation for output layer with size 10\n",
    "     - Use glorot_uniform(xavier initialization) kernel_initializer\n",
    "     - Use zero initialization for biases\n",
    "     - Use softmax as activation function"
   ]
  },
  {
   "cell_type": "markdown",
   "id": "ad91cc20-bcad-4c9e-8176-1639171a2c2d",
   "metadata": {},
   "source": [
    "### Compile model\n",
    "   - Use sgd as optimizer\n",
    "      - Use learning rate of 0.01\n",
    "   - Use SparseCategoricalCrossentropy(log loss) as loss\n",
    "   - Use accuracy as metric"
   ]
  },
  {
   "cell_type": "markdown",
   "id": "af021444-1529-4f98-8ab1-a449d3988269",
   "metadata": {},
   "source": [
    "### Fit model here\n",
    "  - Use validation split of 0.2 \n",
    "  - Train for 100 epochs"
   ]
  },
  {
   "cell_type": "markdown",
   "id": "37c87a48-73ee-4e00-9231-efbce8c59c6a",
   "metadata": {},
   "source": [
    "### Plot your training and validation  accuracy"
   ]
  },
  {
   "cell_type": "markdown",
   "id": "ca87dd17-d4e9-4c6e-99b7-dd52929322b1",
   "metadata": {},
   "source": [
    "### Evaluate test dataset using fit model\n",
    "Print test loss and test accuracy"
   ]
  },
  {
   "cell_type": "markdown",
   "id": "75f640d4-f0fa-4c77-a130-7871691e2607",
   "metadata": {},
   "source": [
    "## Testing with Relu"
   ]
  },
  {
   "cell_type": "markdown",
   "id": "d9e925d4-d615-44d8-8987-59d8e1284807",
   "metadata": {},
   "source": [
    "### Create model Definition \n",
    "  - Use tf.keras.layers.Flatten for the input layer \n",
    "  - Use Dense layers with sizes: [128, 64] respectively\n",
    "     - Use he_uniform as kernel_initializer\n",
    "     - Use zero initialization for biases\n",
    "     - Use relu as activation function\n",
    "  - Use Dense layer with softmax activation for output layer with size 10\n",
    "     - Use glorot_uniform as kernel_initializer\n",
    "     - Use zero initialization for biases\n",
    "     - Use softmax as activation function"
   ]
  },
  {
   "cell_type": "markdown",
   "id": "b2738344-9ed1-45b7-af45-2d521e39bc4a",
   "metadata": {},
   "source": [
    "### Compile model\n",
    "   - Use sgd as optimizer\n",
    "      - Use learning rate of 0.01\n",
    "   - Use SparseCategoricalCrossentropy(log loss) as loss\n",
    "   - Use accuracy as metric"
   ]
  },
  {
   "cell_type": "markdown",
   "id": "28042716-3118-4b21-aec7-58193e44e0e5",
   "metadata": {},
   "source": [
    "### Fit model here\n",
    "  - Use validation split of 0.2 \n",
    "  - Train for 100 epochs"
   ]
  },
  {
   "cell_type": "markdown",
   "id": "2d61d477-401e-4d1e-9f9b-835c3253aa3c",
   "metadata": {},
   "source": [
    "### Plot your training and validation  accuracy"
   ]
  },
  {
   "cell_type": "markdown",
   "id": "7ad84d69-0d85-4d0b-bfba-1fde67ca0816",
   "metadata": {},
   "source": [
    "### Evaluate test dataset using fit dataset\n",
    "Print test loss and test accuracy"
   ]
  },
  {
   "cell_type": "markdown",
   "id": "1e909eb2-7ded-41e6-b6fd-fcd80787d4ca",
   "metadata": {},
   "source": [
    "# With Regularization"
   ]
  },
  {
   "cell_type": "markdown",
   "id": "89c55d10-8ac6-49bb-a28d-6e10fdaec275",
   "metadata": {},
   "source": [
    "## Testing with Sigmoid"
   ]
  },
  {
   "cell_type": "markdown",
   "id": "90e53f21-d3b8-4ab4-806d-9d994e942439",
   "metadata": {},
   "source": [
    "### Create model Definition \n",
    "  - Use tf.keras.layers.Flatten for the input layer \n",
    "  - Use Dense layers with sizes: [128, 64] respectively\n",
    "     - Use glorot_uniform(xavier initialization) kernel_initializer\n",
    "     - Use zero initialization for biases\n",
    "     - Use sigmoid as activation function\n",
    "     - Use L2 regularization with weight 0.001\n",
    "  - Use Dense layer with softmax activation for output layer with size 10\n",
    "     - Use glorot_uniform(xavier initialization) kernel_initializer\n",
    "     - Use zero initialization for biases\n",
    "     - Use softmax as activation function\n",
    "     - Use L2 regularization with weight 0.001"
   ]
  },
  {
   "cell_type": "markdown",
   "id": "e78e4fa2-2849-4589-97e0-02d81daa0282",
   "metadata": {},
   "source": [
    "### Compile model\n",
    "   - Use sgd as optimizer\n",
    "      - Use learning rate of 0.01\n",
    "   - Use SparseCategoricalCrossentropy(log loss) as loss\n",
    "   - Use accuracy as metric"
   ]
  },
  {
   "cell_type": "markdown",
   "id": "69aeb5bb-769b-45ca-972f-d40ac610027b",
   "metadata": {},
   "source": [
    "### Fit model here\n",
    "  - Use validation split of 0.2 \n",
    "  - Train for 100 epochs"
   ]
  },
  {
   "cell_type": "markdown",
   "id": "771582fe-ab3a-4da6-b014-195d1d2957ff",
   "metadata": {},
   "source": [
    "### Plot your training and validation  accuracy"
   ]
  },
  {
   "cell_type": "markdown",
   "id": "16d6d059-a122-4f9d-953f-0ba0ae1828bf",
   "metadata": {},
   "source": [
    "### Evaluate test dataset using fit dataset\n",
    "Print test loss and test accuracy"
   ]
  },
  {
   "cell_type": "markdown",
   "id": "7d4eb7a5-ad79-468b-ab1f-dde897df3b32",
   "metadata": {},
   "source": [
    "## Testing with Relu"
   ]
  },
  {
   "cell_type": "markdown",
   "id": "a1c5ace0-09a1-4a1f-af1c-fa47ff23afd7",
   "metadata": {},
   "source": [
    "### Create model Definition \n",
    "  - Use tf.keras.layers.Flatten for the input layer \n",
    "  - Use Dense layers with sizes: [128, 64] respectively\n",
    "     - Use he_uniform as kernel_initializer\n",
    "     - Use zero initialization for biases\n",
    "     - Use relu as activation function\n",
    "     - Use L2 regularization with weight 0.005\n",
    "  - Use Dense layer with softmax activation for output layer with size 10\n",
    "     - Use glorot_uniform as kernel_initializer\n",
    "     - Use zero initialization for biases\n",
    "     - Use softmax as activation function\n",
    "     - Use L2 regularization with weight 0.005"
   ]
  },
  {
   "cell_type": "markdown",
   "id": "2549c770-8c0f-4a88-a927-b606b8a07be3",
   "metadata": {},
   "source": [
    "### Compile model\n",
    "   - Use sgd as optimizer\n",
    "      - Use learning rate of 0.01\n",
    "   - Use SparseCategoricalCrossentropy(log loss) as loss\n",
    "   - Use accuracy as metric"
   ]
  },
  {
   "cell_type": "markdown",
   "id": "9a385af0-4032-419e-b8a9-d61bd0b6d050",
   "metadata": {},
   "source": [
    "### Fit model here\n",
    "  - Use validation split of 0.2 \n",
    "  - Train for 100 epochs"
   ]
  },
  {
   "cell_type": "markdown",
   "id": "27575365-07a0-40b8-b361-c97268d9542e",
   "metadata": {},
   "source": [
    "### Plot your training and validation  accuracy"
   ]
  },
  {
   "cell_type": "markdown",
   "id": "e7aa7a79-3610-4614-8d9a-5a192be42673",
   "metadata": {},
   "source": [
    "### Evaluate test dataset using fit dataset\n",
    "Print test loss and test accuracy"
   ]
  }
 ],
 "metadata": {
  "kernelspec": {
   "display_name": "Python 3 (ipykernel)",
   "language": "python",
   "name": "python3"
  },
  "language_info": {
   "codemirror_mode": {
    "name": "ipython",
    "version": 3
   },
   "file_extension": ".py",
   "mimetype": "text/x-python",
   "name": "python",
   "nbconvert_exporter": "python",
   "pygments_lexer": "ipython3",
   "version": "3.9.7"
  }
 },
 "nbformat": 4,
 "nbformat_minor": 5
}
